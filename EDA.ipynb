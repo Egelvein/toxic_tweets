{
 "cells": [
  {
   "cell_type": "code",
   "execution_count": 1,
   "id": "1bb27d7b-2db5-412a-b33b-39aeef3f9b47",
   "metadata": {},
   "outputs": [
    {
     "name": "stdout",
     "output_type": "stream",
     "text": [
      "Success\n"
     ]
    }
   ],
   "source": [
    "import pandas as pd\n",
    "import re\n",
    "from nltk.tokenize import TweetTokenizer, word_tokenize\n",
    "from nltk.corpus import stopwords\n",
    "\n",
    "print('Success')"
   ]
  },
  {
   "cell_type": "markdown",
   "id": "9d259447-ccd6-4a22-af13-c2c4a3bb2f5e",
   "metadata": {},
   "source": [
    "## Read data"
   ]
  },
  {
   "cell_type": "code",
   "execution_count": 2,
   "id": "ec79bae2-e8a5-4ef1-9436-398341821f59",
   "metadata": {},
   "outputs": [],
   "source": [
    "table = pd.read_csv('data/Tweets.csv')\n",
    "\n",
    "table = table.drop(columns = ['Unnamed: 0'])"
   ]
  },
  {
   "cell_type": "code",
   "execution_count": 3,
   "id": "41e9863a-5d2a-4ac3-b71f-c1c5ace14a5d",
   "metadata": {},
   "outputs": [
    {
     "data": {
      "text/html": [
       "<div>\n",
       "<style scoped>\n",
       "    .dataframe tbody tr th:only-of-type {\n",
       "        vertical-align: middle;\n",
       "    }\n",
       "\n",
       "    .dataframe tbody tr th {\n",
       "        vertical-align: top;\n",
       "    }\n",
       "\n",
       "    .dataframe thead th {\n",
       "        text-align: right;\n",
       "    }\n",
       "</style>\n",
       "<table border=\"1\" class=\"dataframe\">\n",
       "  <thead>\n",
       "    <tr style=\"text-align: right;\">\n",
       "      <th></th>\n",
       "      <th>Toxicity</th>\n",
       "      <th>tweet</th>\n",
       "    </tr>\n",
       "  </thead>\n",
       "  <tbody>\n",
       "    <tr>\n",
       "      <th>0</th>\n",
       "      <td>0</td>\n",
       "      <td>@user when a father is dysfunctional and is s...</td>\n",
       "    </tr>\n",
       "    <tr>\n",
       "      <th>1</th>\n",
       "      <td>0</td>\n",
       "      <td>@user @user thanks for #lyft credit i can't us...</td>\n",
       "    </tr>\n",
       "    <tr>\n",
       "      <th>2</th>\n",
       "      <td>0</td>\n",
       "      <td>bihday your majesty</td>\n",
       "    </tr>\n",
       "    <tr>\n",
       "      <th>3</th>\n",
       "      <td>0</td>\n",
       "      <td>#model   i love u take with u all the time in ...</td>\n",
       "    </tr>\n",
       "    <tr>\n",
       "      <th>4</th>\n",
       "      <td>0</td>\n",
       "      <td>factsguide: society now    #motivation</td>\n",
       "    </tr>\n",
       "    <tr>\n",
       "      <th>...</th>\n",
       "      <td>...</td>\n",
       "      <td>...</td>\n",
       "    </tr>\n",
       "    <tr>\n",
       "      <th>56740</th>\n",
       "      <td>1</td>\n",
       "      <td>you's a muthaf***in lie &amp;#8220;@LifeAsKing: @2...</td>\n",
       "    </tr>\n",
       "    <tr>\n",
       "      <th>56741</th>\n",
       "      <td>1</td>\n",
       "      <td>you've gone and broke the wrong heart baby, an...</td>\n",
       "    </tr>\n",
       "    <tr>\n",
       "      <th>56742</th>\n",
       "      <td>1</td>\n",
       "      <td>young buck wanna eat!!.. dat nigguh like I ain...</td>\n",
       "    </tr>\n",
       "    <tr>\n",
       "      <th>56743</th>\n",
       "      <td>1</td>\n",
       "      <td>youu got wild bitches tellin you lies</td>\n",
       "    </tr>\n",
       "    <tr>\n",
       "      <th>56744</th>\n",
       "      <td>0</td>\n",
       "      <td>~~Ruffled | Ntac Eileen Dahlia - Beautiful col...</td>\n",
       "    </tr>\n",
       "  </tbody>\n",
       "</table>\n",
       "<p>56745 rows × 2 columns</p>\n",
       "</div>"
      ],
      "text/plain": [
       "       Toxicity                                              tweet\n",
       "0             0   @user when a father is dysfunctional and is s...\n",
       "1             0  @user @user thanks for #lyft credit i can't us...\n",
       "2             0                                bihday your majesty\n",
       "3             0  #model   i love u take with u all the time in ...\n",
       "4             0             factsguide: society now    #motivation\n",
       "...         ...                                                ...\n",
       "56740         1  you's a muthaf***in lie &#8220;@LifeAsKing: @2...\n",
       "56741         1  you've gone and broke the wrong heart baby, an...\n",
       "56742         1  young buck wanna eat!!.. dat nigguh like I ain...\n",
       "56743         1              youu got wild bitches tellin you lies\n",
       "56744         0  ~~Ruffled | Ntac Eileen Dahlia - Beautiful col...\n",
       "\n",
       "[56745 rows x 2 columns]"
      ]
     },
     "execution_count": 3,
     "metadata": {},
     "output_type": "execute_result"
    }
   ],
   "source": [
    "table"
   ]
  },
  {
   "cell_type": "markdown",
   "id": "f94fcf89-cdd7-4142-bd79-3c6a33539c9f",
   "metadata": {},
   "source": [
    "## Bird-view on data"
   ]
  },
  {
   "cell_type": "code",
   "execution_count": 4,
   "id": "84075585-63d2-463a-a5ed-98224f818c63",
   "metadata": {},
   "outputs": [
    {
     "data": {
      "text/plain": [
       "Toxicity\n",
       "0    32592\n",
       "1    24153\n",
       "Name: count, dtype: int64"
      ]
     },
     "execution_count": 4,
     "metadata": {},
     "output_type": "execute_result"
    }
   ],
   "source": [
    "table['Toxicity'].value_counts()"
   ]
  },
  {
   "cell_type": "code",
   "execution_count": 5,
   "id": "698c1188-2e67-49cc-a37b-122395c9d9bf",
   "metadata": {},
   "outputs": [
    {
     "name": "stdout",
     "output_type": "stream",
     "text": [
      "0 :\t  @user when a father is dysfunctional and is so selfish he drags his kids into his dysfunction.   #run\n",
      "\n",
      "1 :\t @user @user thanks for #lyft credit i can't use cause they don't offer wheelchair vans in pdx.    #disapointed #getthanked\n",
      "\n",
      "2 :\t   bihday your majesty\n",
      "\n",
      "3 :\t #model   i love u take with u all the time in urð±!!! ðððð",
      "ð¦ð¦ð¦  \n",
      "\n",
      "4 :\t  factsguide: society now    #motivation\n",
      "\n",
      "5 :\t [2/2] huge fan fare and big talking before they leave. chaos and pay disputes when they get there. #allshowandnogo  \n",
      "\n",
      "6 :\t  @user camping tomorrow @user @user @user @user @user @user @user dannyâ¦\n",
      "\n",
      "7 :\t the next school year is the year for exams.ð¯ can't think about that ð­ #school #exams   #hate #imagine #actorslife #revolutionschool #girl\n",
      "\n",
      "8 :\t we won!!! love the land!!! #allin #cavs #champions #cleveland #clevelandcavaliers  â¦ \n",
      "\n",
      "9 :\t  @user @user welcome here !  i'm   it's so #gr8 ! \n",
      "\n"
     ]
    }
   ],
   "source": [
    "for i in range(10):\n",
    "    print(i, ':\\t', table['tweet'][i])\n",
    "    print()"
   ]
  },
  {
   "cell_type": "markdown",
   "id": "50e6c14c-44e5-4948-989e-bfd0cfdfc644",
   "metadata": {},
   "source": [
    "### Text cleaning"
   ]
  },
  {
   "cell_type": "code",
   "execution_count": null,
   "id": "e6c861e3-3a35-48d2-b1ae-ffbcd2745120",
   "metadata": {},
   "outputs": [],
   "source": [
    "def clean_hashs(data):\n",
    "    cleaned_data = re.sub('[^\\w\\s]+', '', data)  # Removing hashtags and other non-alphanumeric characters\n",
    "    cleaned_data = re.sub('[^a-zA-Z\\s]+', '', data)  # Removing non-letter characters except spaces\n",
    "    cleaned_data = re.sub('\\s+', ' ', cleaned_data).strip()  # Remove extra spaces and strip leading/trailing spaces\n",
    "    return cleaned_data"
   ]
  },
  {
   "cell_type": "code",
   "execution_count": 7,
   "id": "78fe127b-a58c-4c99-84df-611b7ab95a66",
   "metadata": {},
   "outputs": [],
   "source": [
    "table['tweet'] = table['tweet'].apply(lambda x: clean_hashs(x))"
   ]
  },
  {
   "cell_type": "code",
   "execution_count": 8,
   "id": "5ed218a5-6e73-4e7a-92eb-d8690fb8e3f4",
   "metadata": {},
   "outputs": [],
   "source": [
    "tokenizer = TweetTokenizer()"
   ]
  },
  {
   "cell_type": "code",
   "execution_count": 9,
   "id": "19ad5c7c-30b5-474c-b040-9ae3b4a8cee6",
   "metadata": {},
   "outputs": [],
   "source": [
    "stop_words = set(stopwords.words('english'))\n",
    "stop_words.add('user')"
   ]
  },
  {
   "cell_type": "code",
   "execution_count": 10,
   "id": "33f4b345-9a80-4e2a-ad8d-71ce024e3b67",
   "metadata": {},
   "outputs": [],
   "source": [
    "tokens_list = [tokenizer.tokenize(tweet) for tweet in table['tweet']]\n",
    "filtered_tokens_list = [[word for word in tokens if word.lower() not in stop_words] for tokens in tokens_list]"
   ]
  },
  {
   "cell_type": "code",
   "execution_count": 11,
   "id": "ea10fba5-5583-4120-a4a0-6f1eec01d77e",
   "metadata": {},
   "outputs": [],
   "source": [
    "table['filtered_words'] = filtered_tokens_list"
   ]
  },
  {
   "cell_type": "code",
   "execution_count": 15,
   "id": "0b6db8bc-e7fe-4c30-813c-179fa72efd44",
   "metadata": {},
   "outputs": [
    {
     "name": "stdout",
     "output_type": "stream",
     "text": [
      "0 :\t ['father', 'dysfunctional', 'selfish', 'drags', 'kids', 'dysfunction', 'run']\n",
      "\n",
      "1 :\t ['thanks', 'lyft', 'credit', 'cant', 'use', 'cause', 'dont', 'offer', 'wheelchair', 'vans', 'pdx', 'disapointed', 'getthanked']\n",
      "\n",
      "2 :\t ['bihday', 'majesty']\n",
      "\n",
      "3 :\t ['model', 'love', 'u', 'take', 'u', 'time', 'ur']\n",
      "\n",
      "4 :\t ['factsguide', 'society', 'motivation']\n",
      "\n",
      "5 :\t ['huge', 'fan', 'fare', 'big', 'talking', 'leave', 'chaos', 'pay', 'disputes', 'get', 'allshowandnogo']\n",
      "\n",
      "6 :\t ['camping', 'tomorrow', 'danny']\n",
      "\n",
      "7 :\t ['next', 'school', 'year', 'year', 'exams', 'cant', 'think', 'school', 'exams', 'hate', 'imagine', 'actorslife', 'revolutionschool', 'girl']\n",
      "\n",
      "8 :\t ['love', 'land', 'allin', 'cavs', 'champions', 'cleveland', 'clevelandcavaliers']\n",
      "\n",
      "9 :\t ['welcome', 'im', 'gr']\n",
      "\n"
     ]
    }
   ],
   "source": [
    "for i in range(10):\n",
    "    print(i, ':\\t', table['filtered_words'][i])\n",
    "    print()"
   ]
  },
  {
   "cell_type": "code",
   "execution_count": null,
   "id": "38f9fc09-9b07-43de-a77e-c6d915a35c4a",
   "metadata": {},
   "outputs": [],
   "source": []
  },
  {
   "cell_type": "code",
   "execution_count": null,
   "id": "1b181f7c-ac79-4faa-bc92-ff60d373d5bc",
   "metadata": {},
   "outputs": [],
   "source": []
  }
 ],
 "metadata": {
  "kernelspec": {
   "display_name": "Python 3 (ipykernel)",
   "language": "python",
   "name": "python3"
  },
  "language_info": {
   "codemirror_mode": {
    "name": "ipython",
    "version": 3
   },
   "file_extension": ".py",
   "mimetype": "text/x-python",
   "name": "python",
   "nbconvert_exporter": "python",
   "pygments_lexer": "ipython3",
   "version": "3.12.2"
  }
 },
 "nbformat": 4,
 "nbformat_minor": 5
}
