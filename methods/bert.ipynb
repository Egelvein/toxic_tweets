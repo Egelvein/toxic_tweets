{
 "cells": [
  {
   "cell_type": "code",
   "execution_count": 1,
   "id": "4b78dc43-cecb-46cf-a1a2-577d31de6472",
   "metadata": {},
   "outputs": [
    {
     "name": "stdout",
     "output_type": "stream",
     "text": [
      "Success\n"
     ]
    }
   ],
   "source": [
    "import pandas as pd\n",
    "from transformers import BertForSequenceClassification, BertTokenizer, TextClassificationPipeline\n",
    "from sklearn.metrics import classification_report, f1_score\n",
    "from sklearn.model_selection import train_test_split\n",
    "\n",
    "print('Success')"
   ]
  },
  {
   "cell_type": "code",
   "execution_count": 2,
   "id": "0000b989-62b0-48b8-941d-1eca236f0266",
   "metadata": {},
   "outputs": [
    {
     "data": {
      "text/html": [
       "<div>\n",
       "<style scoped>\n",
       "    .dataframe tbody tr th:only-of-type {\n",
       "        vertical-align: middle;\n",
       "    }\n",
       "\n",
       "    .dataframe tbody tr th {\n",
       "        vertical-align: top;\n",
       "    }\n",
       "\n",
       "    .dataframe thead th {\n",
       "        text-align: right;\n",
       "    }\n",
       "</style>\n",
       "<table border=\"1\" class=\"dataframe\">\n",
       "  <thead>\n",
       "    <tr style=\"text-align: right;\">\n",
       "      <th></th>\n",
       "      <th>Toxicity</th>\n",
       "      <th>tweet</th>\n",
       "      <th>filtered_words</th>\n",
       "    </tr>\n",
       "  </thead>\n",
       "  <tbody>\n",
       "    <tr>\n",
       "      <th>0</th>\n",
       "      <td>0</td>\n",
       "      <td>user when a father is dysfunctional and is so ...</td>\n",
       "      <td>['father', 'dysfunctional', 'selfish', 'drags'...</td>\n",
       "    </tr>\n",
       "    <tr>\n",
       "      <th>1</th>\n",
       "      <td>0</td>\n",
       "      <td>user user thanks for lyft credit i cant use ca...</td>\n",
       "      <td>['thanks', 'lyft', 'credit', 'cant', 'use', 'c...</td>\n",
       "    </tr>\n",
       "    <tr>\n",
       "      <th>2</th>\n",
       "      <td>0</td>\n",
       "      <td>bihday your majesty</td>\n",
       "      <td>['bihday', 'majesty']</td>\n",
       "    </tr>\n",
       "    <tr>\n",
       "      <th>3</th>\n",
       "      <td>0</td>\n",
       "      <td>model i love u take with u all the time in ur</td>\n",
       "      <td>['model', 'love', 'u', 'take', 'u', 'time', 'ur']</td>\n",
       "    </tr>\n",
       "    <tr>\n",
       "      <th>4</th>\n",
       "      <td>0</td>\n",
       "      <td>factsguide society now motivation</td>\n",
       "      <td>['factsguide', 'society', 'motivation']</td>\n",
       "    </tr>\n",
       "    <tr>\n",
       "      <th>...</th>\n",
       "      <td>...</td>\n",
       "      <td>...</td>\n",
       "      <td>...</td>\n",
       "    </tr>\n",
       "    <tr>\n",
       "      <th>56740</th>\n",
       "      <td>1</td>\n",
       "      <td>yous a muthafin lie LifeAsKing Pearls coreyema...</td>\n",
       "      <td>['yous', 'muthafin', 'lie', 'LifeAsKing', 'Pea...</td>\n",
       "    </tr>\n",
       "    <tr>\n",
       "      <th>56741</th>\n",
       "      <td>1</td>\n",
       "      <td>youve gone and broke the wrong heart baby and ...</td>\n",
       "      <td>['youve', 'gone', 'broke', 'wrong', 'heart', '...</td>\n",
       "    </tr>\n",
       "    <tr>\n",
       "      <th>56742</th>\n",
       "      <td>1</td>\n",
       "      <td>young buck wanna eat dat nigguh like I aint fu...</td>\n",
       "      <td>['young', 'buck', 'wanna', 'eat', 'dat', 'nigg...</td>\n",
       "    </tr>\n",
       "    <tr>\n",
       "      <th>56743</th>\n",
       "      <td>1</td>\n",
       "      <td>youu got wild bitches tellin you lies</td>\n",
       "      <td>['youu', 'got', 'wild', 'bitches', 'tellin', '...</td>\n",
       "    </tr>\n",
       "    <tr>\n",
       "      <th>56744</th>\n",
       "      <td>0</td>\n",
       "      <td>Ruffled Ntac Eileen Dahlia Beautiful color com...</td>\n",
       "      <td>['Ruffled', 'Ntac', 'Eileen', 'Dahlia', 'Beaut...</td>\n",
       "    </tr>\n",
       "  </tbody>\n",
       "</table>\n",
       "<p>56745 rows × 3 columns</p>\n",
       "</div>"
      ],
      "text/plain": [
       "       Toxicity                                              tweet  \\\n",
       "0             0  user when a father is dysfunctional and is so ...   \n",
       "1             0  user user thanks for lyft credit i cant use ca...   \n",
       "2             0                                bihday your majesty   \n",
       "3             0      model i love u take with u all the time in ur   \n",
       "4             0                  factsguide society now motivation   \n",
       "...         ...                                                ...   \n",
       "56740         1  yous a muthafin lie LifeAsKing Pearls coreyema...   \n",
       "56741         1  youve gone and broke the wrong heart baby and ...   \n",
       "56742         1  young buck wanna eat dat nigguh like I aint fu...   \n",
       "56743         1              youu got wild bitches tellin you lies   \n",
       "56744         0  Ruffled Ntac Eileen Dahlia Beautiful color com...   \n",
       "\n",
       "                                          filtered_words  \n",
       "0      ['father', 'dysfunctional', 'selfish', 'drags'...  \n",
       "1      ['thanks', 'lyft', 'credit', 'cant', 'use', 'c...  \n",
       "2                                  ['bihday', 'majesty']  \n",
       "3      ['model', 'love', 'u', 'take', 'u', 'time', 'ur']  \n",
       "4                ['factsguide', 'society', 'motivation']  \n",
       "...                                                  ...  \n",
       "56740  ['yous', 'muthafin', 'lie', 'LifeAsKing', 'Pea...  \n",
       "56741  ['youve', 'gone', 'broke', 'wrong', 'heart', '...  \n",
       "56742  ['young', 'buck', 'wanna', 'eat', 'dat', 'nigg...  \n",
       "56743  ['youu', 'got', 'wild', 'bitches', 'tellin', '...  \n",
       "56744  ['Ruffled', 'Ntac', 'Eileen', 'Dahlia', 'Beaut...  \n",
       "\n",
       "[56745 rows x 3 columns]"
      ]
     },
     "execution_count": 2,
     "metadata": {},
     "output_type": "execute_result"
    }
   ],
   "source": [
    "table = pd.read_csv('data/Tweets_cleaned.csv')\n",
    "\n",
    "table"
   ]
  },
  {
   "cell_type": "code",
   "execution_count": null,
   "id": "44ee8dae-692e-453d-b150-f9cc735d6791",
   "metadata": {},
   "outputs": [],
   "source": []
  },
  {
   "cell_type": "code",
   "execution_count": 3,
   "id": "51f03436-29cc-47e9-b8ee-e42123f5810b",
   "metadata": {},
   "outputs": [],
   "source": [
    "X = table['filtered_words']\n",
    "y = table['Toxicity']"
   ]
  },
  {
   "cell_type": "code",
   "execution_count": 4,
   "id": "2275a4a8-3056-42c6-9ea0-404868cb68f2",
   "metadata": {},
   "outputs": [],
   "source": [
    "X_train, X_test, y_train, y_test = train_test_split(\n",
    "    X, y, test_size=0.2, random_state=42)"
   ]
  },
  {
   "cell_type": "code",
   "execution_count": 5,
   "id": "c7d17749-a96c-4b91-81d8-2907e9e1b34a",
   "metadata": {},
   "outputs": [],
   "source": [
    "X_test = X_test.reset_index()"
   ]
  },
  {
   "cell_type": "code",
   "execution_count": null,
   "id": "a18eb2c7-bd16-42a9-9623-27b08e095e2e",
   "metadata": {},
   "outputs": [],
   "source": []
  },
  {
   "cell_type": "markdown",
   "id": "7b9b832f-0c92-4577-a737-84e58d895e1f",
   "metadata": {},
   "source": [
    "Model from https://huggingface.co/JungleLee/bert-toxic-comment-classification"
   ]
  },
  {
   "cell_type": "code",
   "execution_count": 6,
   "id": "f456ce90-bc16-462a-b3a4-b6c8d2ea7aa1",
   "metadata": {},
   "outputs": [],
   "source": [
    "model_path = \"JungleLee/bert-toxic-comment-classification\"\n",
    "tokenizer = BertTokenizer.from_pretrained(model_path)\n",
    "model = BertForSequenceClassification.from_pretrained(model_path, num_labels=2)"
   ]
  },
  {
   "cell_type": "code",
   "execution_count": 7,
   "id": "b5c187d7-d8f0-4496-84f7-92d4ba283c5a",
   "metadata": {},
   "outputs": [],
   "source": [
    "pipeline = TextClassificationPipeline(model=model, tokenizer=tokenizer)\n",
    "# print(pipeline(\"You're a fucking nerd.\"))"
   ]
  },
  {
   "cell_type": "code",
   "execution_count": 8,
   "id": "a1530e10-6e40-44e5-9562-be6715d89b5a",
   "metadata": {},
   "outputs": [],
   "source": [
    "y_pred = []"
   ]
  },
  {
   "cell_type": "code",
   "execution_count": 9,
   "id": "bf70bf00-4f03-4e34-8313-1665e51135cf",
   "metadata": {},
   "outputs": [],
   "source": [
    "for i in range(len(X_test)):\n",
    "    y_pred.append(pipeline(str(X_test['filtered_words'][i])))"
   ]
  },
  {
   "cell_type": "code",
   "execution_count": 10,
   "id": "de43b48a-0e0c-4920-9454-77e85a48d0ee",
   "metadata": {},
   "outputs": [],
   "source": [
    "for i, item in enumerate(y_pred):\n",
    "    if isinstance(item, dict):\n",
    "        y_pred[i] = 1 if item['label'] == 'toxic' else 0\n",
    "    elif isinstance(item, list):\n",
    "        for j, subitem in enumerate(item):\n",
    "            if isinstance(subitem, dict):\n",
    "                item[j] = 1 if subitem['label'] == 'toxic' else 0"
   ]
  },
  {
   "cell_type": "code",
   "execution_count": 11,
   "id": "bf8b1f60-8b99-45be-995b-d4f9bc484994",
   "metadata": {},
   "outputs": [],
   "source": [
    "def flatten(lst):\n",
    "    flat_list = []\n",
    "    for item in lst:\n",
    "        if isinstance(item, list):\n",
    "            flat_list.extend(flatten(item))\n",
    "        else:\n",
    "            flat_list.append(item)\n",
    "    return flat_list"
   ]
  },
  {
   "cell_type": "code",
   "execution_count": 12,
   "id": "3e2990c1-2d30-43ed-afbd-61c85e1d0ca3",
   "metadata": {},
   "outputs": [],
   "source": [
    "y_pred = flatten(y_pred)"
   ]
  },
  {
   "cell_type": "code",
   "execution_count": 13,
   "id": "1c170ce3-2938-4669-b1d0-85015a751f3d",
   "metadata": {},
   "outputs": [
    {
     "name": "stdout",
     "output_type": "stream",
     "text": [
      "              precision    recall  f1-score   support\n",
      "\n",
      "           0       0.73      0.97      0.83      6472\n",
      "           1       0.94      0.51      0.66      4877\n",
      "\n",
      "    accuracy                           0.78     11349\n",
      "   macro avg       0.83      0.74      0.75     11349\n",
      "weighted avg       0.82      0.78      0.76     11349\n",
      "\n"
     ]
    }
   ],
   "source": [
    "print(classification_report(y_test, y_pred))"
   ]
  },
  {
   "cell_type": "code",
   "execution_count": 14,
   "id": "8de20cd3-69d7-4344-ad83-16a65e383abe",
   "metadata": {},
   "outputs": [
    {
     "name": "stdout",
     "output_type": "stream",
     "text": [
      "f1_score =  0.6616262103727285\n"
     ]
    }
   ],
   "source": [
    "print('f1_score = ', f1_score(y_test, y_pred))"
   ]
  },
  {
   "cell_type": "code",
   "execution_count": null,
   "id": "03d1275a-c7e4-4a86-a75e-c05375ebcb4d",
   "metadata": {},
   "outputs": [],
   "source": []
  },
  {
   "cell_type": "code",
   "execution_count": null,
   "id": "deaadc95-986f-41e6-baf1-989543cc9f8f",
   "metadata": {},
   "outputs": [],
   "source": []
  }
 ],
 "metadata": {
  "kernelspec": {
   "display_name": "Python 3 (ipykernel)",
   "language": "python",
   "name": "python3"
  },
  "language_info": {
   "codemirror_mode": {
    "name": "ipython",
    "version": 3
   },
   "file_extension": ".py",
   "mimetype": "text/x-python",
   "name": "python",
   "nbconvert_exporter": "python",
   "pygments_lexer": "ipython3",
   "version": "3.12.2"
  }
 },
 "nbformat": 4,
 "nbformat_minor": 5
}
