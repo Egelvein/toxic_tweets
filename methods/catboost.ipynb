{
 "cells": [
  {
   "cell_type": "code",
   "execution_count": 10,
   "id": "da9cc68f-a6ab-4263-bc2d-a0eb9d650c3c",
   "metadata": {},
   "outputs": [
    {
     "name": "stdout",
     "output_type": "stream",
     "text": [
      "Success\n"
     ]
    }
   ],
   "source": [
    "import pandas as pd\n",
    "from catboost import Pool, CatBoostClassifier\n",
    "from sklearn.metrics import classification_report, f1_score\n",
    "from sklearn.model_selection import train_test_split\n",
    "\n",
    "print('Success')"
   ]
  },
  {
   "cell_type": "code",
   "execution_count": 2,
   "id": "993f907e-e3d8-41c4-ad83-69fefad4c1e6",
   "metadata": {},
   "outputs": [
    {
     "data": {
      "text/html": [
       "<div>\n",
       "<style scoped>\n",
       "    .dataframe tbody tr th:only-of-type {\n",
       "        vertical-align: middle;\n",
       "    }\n",
       "\n",
       "    .dataframe tbody tr th {\n",
       "        vertical-align: top;\n",
       "    }\n",
       "\n",
       "    .dataframe thead th {\n",
       "        text-align: right;\n",
       "    }\n",
       "</style>\n",
       "<table border=\"1\" class=\"dataframe\">\n",
       "  <thead>\n",
       "    <tr style=\"text-align: right;\">\n",
       "      <th></th>\n",
       "      <th>Toxicity</th>\n",
       "      <th>tweet</th>\n",
       "      <th>filtered_words</th>\n",
       "    </tr>\n",
       "  </thead>\n",
       "  <tbody>\n",
       "    <tr>\n",
       "      <th>0</th>\n",
       "      <td>0</td>\n",
       "      <td>user when a father is dysfunctional and is so ...</td>\n",
       "      <td>['father', 'dysfunctional', 'selfish', 'drags'...</td>\n",
       "    </tr>\n",
       "    <tr>\n",
       "      <th>1</th>\n",
       "      <td>0</td>\n",
       "      <td>user user thanks for lyft credit i cant use ca...</td>\n",
       "      <td>['thanks', 'lyft', 'credit', 'cant', 'use', 'c...</td>\n",
       "    </tr>\n",
       "    <tr>\n",
       "      <th>2</th>\n",
       "      <td>0</td>\n",
       "      <td>bihday your majesty</td>\n",
       "      <td>['bihday', 'majesty']</td>\n",
       "    </tr>\n",
       "    <tr>\n",
       "      <th>3</th>\n",
       "      <td>0</td>\n",
       "      <td>model i love u take with u all the time in ur</td>\n",
       "      <td>['model', 'love', 'u', 'take', 'u', 'time', 'ur']</td>\n",
       "    </tr>\n",
       "    <tr>\n",
       "      <th>4</th>\n",
       "      <td>0</td>\n",
       "      <td>factsguide society now motivation</td>\n",
       "      <td>['factsguide', 'society', 'motivation']</td>\n",
       "    </tr>\n",
       "    <tr>\n",
       "      <th>...</th>\n",
       "      <td>...</td>\n",
       "      <td>...</td>\n",
       "      <td>...</td>\n",
       "    </tr>\n",
       "    <tr>\n",
       "      <th>56740</th>\n",
       "      <td>1</td>\n",
       "      <td>yous a muthafin lie LifeAsKing Pearls coreyema...</td>\n",
       "      <td>['yous', 'muthafin', 'lie', 'LifeAsKing', 'Pea...</td>\n",
       "    </tr>\n",
       "    <tr>\n",
       "      <th>56741</th>\n",
       "      <td>1</td>\n",
       "      <td>youve gone and broke the wrong heart baby and ...</td>\n",
       "      <td>['youve', 'gone', 'broke', 'wrong', 'heart', '...</td>\n",
       "    </tr>\n",
       "    <tr>\n",
       "      <th>56742</th>\n",
       "      <td>1</td>\n",
       "      <td>young buck wanna eat dat nigguh like I aint fu...</td>\n",
       "      <td>['young', 'buck', 'wanna', 'eat', 'dat', 'nigg...</td>\n",
       "    </tr>\n",
       "    <tr>\n",
       "      <th>56743</th>\n",
       "      <td>1</td>\n",
       "      <td>youu got wild bitches tellin you lies</td>\n",
       "      <td>['youu', 'got', 'wild', 'bitches', 'tellin', '...</td>\n",
       "    </tr>\n",
       "    <tr>\n",
       "      <th>56744</th>\n",
       "      <td>0</td>\n",
       "      <td>Ruffled Ntac Eileen Dahlia Beautiful color com...</td>\n",
       "      <td>['Ruffled', 'Ntac', 'Eileen', 'Dahlia', 'Beaut...</td>\n",
       "    </tr>\n",
       "  </tbody>\n",
       "</table>\n",
       "<p>56745 rows × 3 columns</p>\n",
       "</div>"
      ],
      "text/plain": [
       "       Toxicity                                              tweet  \\\n",
       "0             0  user when a father is dysfunctional and is so ...   \n",
       "1             0  user user thanks for lyft credit i cant use ca...   \n",
       "2             0                                bihday your majesty   \n",
       "3             0      model i love u take with u all the time in ur   \n",
       "4             0                  factsguide society now motivation   \n",
       "...         ...                                                ...   \n",
       "56740         1  yous a muthafin lie LifeAsKing Pearls coreyema...   \n",
       "56741         1  youve gone and broke the wrong heart baby and ...   \n",
       "56742         1  young buck wanna eat dat nigguh like I aint fu...   \n",
       "56743         1              youu got wild bitches tellin you lies   \n",
       "56744         0  Ruffled Ntac Eileen Dahlia Beautiful color com...   \n",
       "\n",
       "                                          filtered_words  \n",
       "0      ['father', 'dysfunctional', 'selfish', 'drags'...  \n",
       "1      ['thanks', 'lyft', 'credit', 'cant', 'use', 'c...  \n",
       "2                                  ['bihday', 'majesty']  \n",
       "3      ['model', 'love', 'u', 'take', 'u', 'time', 'ur']  \n",
       "4                ['factsguide', 'society', 'motivation']  \n",
       "...                                                  ...  \n",
       "56740  ['yous', 'muthafin', 'lie', 'LifeAsKing', 'Pea...  \n",
       "56741  ['youve', 'gone', 'broke', 'wrong', 'heart', '...  \n",
       "56742  ['young', 'buck', 'wanna', 'eat', 'dat', 'nigg...  \n",
       "56743  ['youu', 'got', 'wild', 'bitches', 'tellin', '...  \n",
       "56744  ['Ruffled', 'Ntac', 'Eileen', 'Dahlia', 'Beaut...  \n",
       "\n",
       "[56745 rows x 3 columns]"
      ]
     },
     "execution_count": 2,
     "metadata": {},
     "output_type": "execute_result"
    }
   ],
   "source": [
    "table = pd.read_csv('data/Tweets_cleaned.csv')\n",
    "\n",
    "table"
   ]
  },
  {
   "cell_type": "code",
   "execution_count": null,
   "id": "8d1de667-aaff-43bd-908e-692f2f6e610c",
   "metadata": {},
   "outputs": [],
   "source": []
  },
  {
   "cell_type": "code",
   "execution_count": 3,
   "id": "61219e3a-f2d6-4a73-84f7-1a376731612e",
   "metadata": {},
   "outputs": [],
   "source": [
    "X = table['filtered_words']\n",
    "y = table['Toxicity']"
   ]
  },
  {
   "cell_type": "code",
   "execution_count": 4,
   "id": "6c137021-731e-4f78-9388-a92936df700d",
   "metadata": {},
   "outputs": [],
   "source": [
    "X_train, X_test, y_train, y_test = train_test_split(\n",
    "    X, y, test_size=0.2, random_state=42)"
   ]
  },
  {
   "cell_type": "code",
   "execution_count": 5,
   "id": "f5d48c31-c88a-4b24-9808-51d3b50388b7",
   "metadata": {},
   "outputs": [],
   "source": [
    "catboost_model = CatBoostClassifier(\n",
    "    iterations=1000,\n",
    "    depth=3,\n",
    "    random_seed=42,\n",
    "    learning_rate=0.01,\n",
    "    text_features=[0]\n",
    ")"
   ]
  },
  {
   "cell_type": "code",
   "execution_count": 6,
   "id": "49e408cd-73da-4410-ba88-22bf20023ae1",
   "metadata": {},
   "outputs": [
    {
     "name": "stdout",
     "output_type": "stream",
     "text": [
      "0:\tlearn: 0.6810159\ttotal: 90.1ms\tremaining: 1m 30s\n",
      "500:\tlearn: 0.2075851\ttotal: 10.8s\tremaining: 10.8s\n",
      "999:\tlearn: 0.1991747\ttotal: 21.3s\tremaining: 0us\n"
     ]
    },
    {
     "data": {
      "text/plain": [
       "<catboost.core.CatBoostClassifier at 0x7c37dcca38f0>"
      ]
     },
     "execution_count": 6,
     "metadata": {},
     "output_type": "execute_result"
    }
   ],
   "source": [
    "catboost_model.fit(\n",
    "    X_train,\n",
    "    y_train,\n",
    "    text_features=[0],\n",
    "    verbose=500\n",
    ")"
   ]
  },
  {
   "cell_type": "code",
   "execution_count": 7,
   "id": "5d7a846a-ea9b-4ae0-9712-687d2425105f",
   "metadata": {},
   "outputs": [],
   "source": [
    "dataset_test = Pool(\n",
    "    data=X_test.values.tolist(),\n",
    "    text_features=[0]\n",
    ")\n",
    "\n",
    "predict_classes = catboost_model.predict(dataset_test)\n",
    "y_pred = predict_classes"
   ]
  },
  {
   "cell_type": "code",
   "execution_count": 8,
   "id": "9d7e1150-07b2-42b1-81a2-558e586c2a2c",
   "metadata": {},
   "outputs": [
    {
     "name": "stdout",
     "output_type": "stream",
     "text": [
      "              precision    recall  f1-score   support\n",
      "\n",
      "           0       0.92      0.95      0.94      6472\n",
      "           1       0.93      0.89      0.91      4877\n",
      "\n",
      "    accuracy                           0.92     11349\n",
      "   macro avg       0.93      0.92      0.92     11349\n",
      "weighted avg       0.92      0.92      0.92     11349\n",
      "\n"
     ]
    }
   ],
   "source": [
    "print(classification_report(y_test, y_pred))"
   ]
  },
  {
   "cell_type": "code",
   "execution_count": 11,
   "id": "21b93c97-b1d9-464a-b166-2f5b84bd367a",
   "metadata": {},
   "outputs": [
    {
     "name": "stdout",
     "output_type": "stream",
     "text": [
      "f1_score =  0.9105571847507331\n"
     ]
    }
   ],
   "source": [
    "print('f1_score = ', f1_score(y_test, y_pred))"
   ]
  },
  {
   "cell_type": "code",
   "execution_count": null,
   "id": "33f3c81c-7713-43fe-b9c1-e12b2e81d03d",
   "metadata": {},
   "outputs": [],
   "source": []
  }
 ],
 "metadata": {
  "kernelspec": {
   "display_name": "Python 3 (ipykernel)",
   "language": "python",
   "name": "python3"
  },
  "language_info": {
   "codemirror_mode": {
    "name": "ipython",
    "version": 3
   },
   "file_extension": ".py",
   "mimetype": "text/x-python",
   "name": "python",
   "nbconvert_exporter": "python",
   "pygments_lexer": "ipython3",
   "version": "3.12.2"
  }
 },
 "nbformat": 4,
 "nbformat_minor": 5
}
