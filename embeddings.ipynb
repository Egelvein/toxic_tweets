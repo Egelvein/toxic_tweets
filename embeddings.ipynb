{
 "cells": [
  {
   "cell_type": "code",
   "execution_count": 1,
   "id": "37cf8390",
   "metadata": {},
   "outputs": [
    {
     "name": "stdout",
     "output_type": "stream",
     "text": [
      "Success\n"
     ]
    }
   ],
   "source": [
    "import pandas as pd\n",
    "\n",
    "from transformers import AutoModel\n",
    "from numpy.linalg import norm\n",
    "\n",
    "print('Success')"
   ]
  },
  {
   "cell_type": "code",
   "execution_count": 3,
   "id": "77e535f7",
   "metadata": {
    "scrolled": true
   },
   "outputs": [
    {
     "data": {
      "text/html": [
       "<div>\n",
       "<style scoped>\n",
       "    .dataframe tbody tr th:only-of-type {\n",
       "        vertical-align: middle;\n",
       "    }\n",
       "\n",
       "    .dataframe tbody tr th {\n",
       "        vertical-align: top;\n",
       "    }\n",
       "\n",
       "    .dataframe thead th {\n",
       "        text-align: right;\n",
       "    }\n",
       "</style>\n",
       "<table border=\"1\" class=\"dataframe\">\n",
       "  <thead>\n",
       "    <tr style=\"text-align: right;\">\n",
       "      <th></th>\n",
       "      <th>Toxicity</th>\n",
       "      <th>tweet</th>\n",
       "      <th>filtered_words</th>\n",
       "    </tr>\n",
       "  </thead>\n",
       "  <tbody>\n",
       "    <tr>\n",
       "      <th>0</th>\n",
       "      <td>0</td>\n",
       "      <td>user when a father is dysfunctional and is so ...</td>\n",
       "      <td>['father', 'dysfunctional', 'selfish', 'drags'...</td>\n",
       "    </tr>\n",
       "    <tr>\n",
       "      <th>1</th>\n",
       "      <td>0</td>\n",
       "      <td>user user thanks for lyft credit i cant use ca...</td>\n",
       "      <td>['thanks', 'lyft', 'credit', 'cant', 'use', 'c...</td>\n",
       "    </tr>\n",
       "    <tr>\n",
       "      <th>2</th>\n",
       "      <td>0</td>\n",
       "      <td>bihday your majesty</td>\n",
       "      <td>['bihday', 'majesty']</td>\n",
       "    </tr>\n",
       "    <tr>\n",
       "      <th>3</th>\n",
       "      <td>0</td>\n",
       "      <td>model i love u take with u all the time in ur</td>\n",
       "      <td>['model', 'love', 'u', 'take', 'u', 'time', 'ur']</td>\n",
       "    </tr>\n",
       "    <tr>\n",
       "      <th>4</th>\n",
       "      <td>0</td>\n",
       "      <td>factsguide society now motivation</td>\n",
       "      <td>['factsguide', 'society', 'motivation']</td>\n",
       "    </tr>\n",
       "    <tr>\n",
       "      <th>...</th>\n",
       "      <td>...</td>\n",
       "      <td>...</td>\n",
       "      <td>...</td>\n",
       "    </tr>\n",
       "    <tr>\n",
       "      <th>56740</th>\n",
       "      <td>1</td>\n",
       "      <td>yous a muthafin lie LifeAsKing Pearls coreyema...</td>\n",
       "      <td>['yous', 'muthafin', 'lie', 'LifeAsKing', 'Pea...</td>\n",
       "    </tr>\n",
       "    <tr>\n",
       "      <th>56741</th>\n",
       "      <td>1</td>\n",
       "      <td>youve gone and broke the wrong heart baby and ...</td>\n",
       "      <td>['youve', 'gone', 'broke', 'wrong', 'heart', '...</td>\n",
       "    </tr>\n",
       "    <tr>\n",
       "      <th>56742</th>\n",
       "      <td>1</td>\n",
       "      <td>young buck wanna eat dat nigguh like I aint fu...</td>\n",
       "      <td>['young', 'buck', 'wanna', 'eat', 'dat', 'nigg...</td>\n",
       "    </tr>\n",
       "    <tr>\n",
       "      <th>56743</th>\n",
       "      <td>1</td>\n",
       "      <td>youu got wild bitches tellin you lies</td>\n",
       "      <td>['youu', 'got', 'wild', 'bitches', 'tellin', '...</td>\n",
       "    </tr>\n",
       "    <tr>\n",
       "      <th>56744</th>\n",
       "      <td>0</td>\n",
       "      <td>Ruffled Ntac Eileen Dahlia Beautiful color com...</td>\n",
       "      <td>['Ruffled', 'Ntac', 'Eileen', 'Dahlia', 'Beaut...</td>\n",
       "    </tr>\n",
       "  </tbody>\n",
       "</table>\n",
       "<p>56745 rows × 3 columns</p>\n",
       "</div>"
      ],
      "text/plain": [
       "       Toxicity                                              tweet  \\\n",
       "0             0  user when a father is dysfunctional and is so ...   \n",
       "1             0  user user thanks for lyft credit i cant use ca...   \n",
       "2             0                                bihday your majesty   \n",
       "3             0      model i love u take with u all the time in ur   \n",
       "4             0                  factsguide society now motivation   \n",
       "...         ...                                                ...   \n",
       "56740         1  yous a muthafin lie LifeAsKing Pearls coreyema...   \n",
       "56741         1  youve gone and broke the wrong heart baby and ...   \n",
       "56742         1  young buck wanna eat dat nigguh like I aint fu...   \n",
       "56743         1              youu got wild bitches tellin you lies   \n",
       "56744         0  Ruffled Ntac Eileen Dahlia Beautiful color com...   \n",
       "\n",
       "                                          filtered_words  \n",
       "0      ['father', 'dysfunctional', 'selfish', 'drags'...  \n",
       "1      ['thanks', 'lyft', 'credit', 'cant', 'use', 'c...  \n",
       "2                                  ['bihday', 'majesty']  \n",
       "3      ['model', 'love', 'u', 'take', 'u', 'time', 'ur']  \n",
       "4                ['factsguide', 'society', 'motivation']  \n",
       "...                                                  ...  \n",
       "56740  ['yous', 'muthafin', 'lie', 'LifeAsKing', 'Pea...  \n",
       "56741  ['youve', 'gone', 'broke', 'wrong', 'heart', '...  \n",
       "56742  ['young', 'buck', 'wanna', 'eat', 'dat', 'nigg...  \n",
       "56743  ['youu', 'got', 'wild', 'bitches', 'tellin', '...  \n",
       "56744  ['Ruffled', 'Ntac', 'Eileen', 'Dahlia', 'Beaut...  \n",
       "\n",
       "[56745 rows x 3 columns]"
      ]
     },
     "execution_count": 3,
     "metadata": {},
     "output_type": "execute_result"
    }
   ],
   "source": [
    "table = pd.read_csv('data/Tweets_cleaned.csv')\n",
    "\n",
    "table"
   ]
  },
  {
   "cell_type": "code",
   "execution_count": null,
   "id": "69673427",
   "metadata": {},
   "outputs": [],
   "source": []
  },
  {
   "cell_type": "markdown",
   "id": "f4c8617b-3dfb-4e48-a254-f06605ddfa77",
   "metadata": {},
   "source": [
    "Model from https://huggingface.co/jinaai/jina-embeddings-v2-base-en"
   ]
  },
  {
   "cell_type": "code",
   "execution_count": 4,
   "id": "33e9b5b2",
   "metadata": {},
   "outputs": [
    {
     "data": {
      "application/vnd.jupyter.widget-view+json": {
       "model_id": "25e85ad56d3d4a53af99646bf2ccd899",
       "version_major": 2,
       "version_minor": 0
      },
      "text/plain": [
       "config.json:   0%|          | 0.00/1.18k [00:00<?, ?B/s]"
      ]
     },
     "metadata": {},
     "output_type": "display_data"
    },
    {
     "data": {
      "application/vnd.jupyter.widget-view+json": {
       "model_id": "51a88d697b374af6be31bff3e384a56e",
       "version_major": 2,
       "version_minor": 0
      },
      "text/plain": [
       "configuration_bert.py:   0%|          | 0.00/8.24k [00:00<?, ?B/s]"
      ]
     },
     "metadata": {},
     "output_type": "display_data"
    },
    {
     "name": "stderr",
     "output_type": "stream",
     "text": [
      "A new version of the following files was downloaded from https://huggingface.co/jinaai/jina-bert-implementation:\n",
      "- configuration_bert.py\n",
      ". Make sure to double-check they do not contain any added malicious code. To avoid downloading new versions of the code file, you can pin a revision.\n"
     ]
    },
    {
     "data": {
      "application/vnd.jupyter.widget-view+json": {
       "model_id": "4cf94c03105f4ff4add23b44e4386f74",
       "version_major": 2,
       "version_minor": 0
      },
      "text/plain": [
       "modeling_bert.py:   0%|          | 0.00/97.7k [00:00<?, ?B/s]"
      ]
     },
     "metadata": {},
     "output_type": "display_data"
    },
    {
     "name": "stderr",
     "output_type": "stream",
     "text": [
      "A new version of the following files was downloaded from https://huggingface.co/jinaai/jina-bert-implementation:\n",
      "- modeling_bert.py\n",
      ". Make sure to double-check they do not contain any added malicious code. To avoid downloading new versions of the code file, you can pin a revision.\n"
     ]
    },
    {
     "data": {
      "application/vnd.jupyter.widget-view+json": {
       "model_id": "b66580b22de74b8b8dbb38d81b2ffffa",
       "version_major": 2,
       "version_minor": 0
      },
      "text/plain": [
       "model.safetensors:   0%|          | 0.00/275M [00:00<?, ?B/s]"
      ]
     },
     "metadata": {},
     "output_type": "display_data"
    },
    {
     "data": {
      "application/vnd.jupyter.widget-view+json": {
       "model_id": "b68b144c2bee4038a8e597c2d2686f2d",
       "version_major": 2,
       "version_minor": 0
      },
      "text/plain": [
       "tokenizer_config.json:   0%|          | 0.00/373 [00:00<?, ?B/s]"
      ]
     },
     "metadata": {},
     "output_type": "display_data"
    },
    {
     "data": {
      "application/vnd.jupyter.widget-view+json": {
       "model_id": "a5250b93dcb7451cb116f222ccfa2596",
       "version_major": 2,
       "version_minor": 0
      },
      "text/plain": [
       "vocab.txt:   0%|          | 0.00/232k [00:00<?, ?B/s]"
      ]
     },
     "metadata": {},
     "output_type": "display_data"
    },
    {
     "data": {
      "application/vnd.jupyter.widget-view+json": {
       "model_id": "8193f494f8464313ba694bdba200b2ac",
       "version_major": 2,
       "version_minor": 0
      },
      "text/plain": [
       "tokenizer.json:   0%|          | 0.00/712k [00:00<?, ?B/s]"
      ]
     },
     "metadata": {},
     "output_type": "display_data"
    },
    {
     "data": {
      "application/vnd.jupyter.widget-view+json": {
       "model_id": "a43f1debce884eeb942f8b5b059d31a0",
       "version_major": 2,
       "version_minor": 0
      },
      "text/plain": [
       "special_tokens_map.json:   0%|          | 0.00/125 [00:00<?, ?B/s]"
      ]
     },
     "metadata": {},
     "output_type": "display_data"
    }
   ],
   "source": [
    "model = AutoModel.from_pretrained('jinaai/jina-embeddings-v2-base-en', trust_remote_code=True)"
   ]
  },
  {
   "cell_type": "code",
   "execution_count": 24,
   "id": "358f81c8",
   "metadata": {
    "execution": {
     "iopub.execute_input": "2024-05-01T14:40:45.391773Z",
     "iopub.status.busy": "2024-05-01T14:40:45.390929Z",
     "iopub.status.idle": "2024-05-01T15:28:44.542203Z",
     "shell.execute_reply": "2024-05-01T15:28:44.541255Z",
     "shell.execute_reply.started": "2024-05-01T14:40:45.391743Z"
    }
   },
   "outputs": [
    {
     "data": {
      "application/vnd.jupyter.widget-view+json": {
       "model_id": "308fb98d53844c7c84d218d45ca2b1f6",
       "version_major": 2,
       "version_minor": 0
      },
      "text/plain": [
       "Encoding:   0%|          | 0/1774 [00:00<?, ?it/s]"
      ]
     },
     "metadata": {},
     "output_type": "display_data"
    },
    {
     "name": "stdout",
     "output_type": "stream",
     "text": [
      "56745\n",
      "\n",
      "768\n"
     ]
    }
   ],
   "source": [
    "embeddings = model.encode(list_tweets)\n",
    "print(len(embeddings))\n",
    "print()\n",
    "print(len(embeddings[1]))"
   ]
  },
  {
   "cell_type": "code",
   "execution_count": 25,
   "id": "2fdebbb0",
   "metadata": {
    "execution": {
     "iopub.execute_input": "2024-05-01T15:44:08.585329Z",
     "iopub.status.busy": "2024-05-01T15:44:08.584922Z",
     "iopub.status.idle": "2024-05-01T15:44:08.592797Z",
     "shell.execute_reply": "2024-05-01T15:44:08.591906Z",
     "shell.execute_reply.started": "2024-05-01T15:44:08.585300Z"
    }
   },
   "outputs": [
    {
     "data": {
      "text/plain": [
       "array([[-0.18754126, -0.17380239,  0.47713816, ..., -0.04764899,\n",
       "        -0.29684994, -0.56162477],\n",
       "       [ 0.03799951, -0.46993774,  0.87334275, ..., -0.06036539,\n",
       "         0.29221004, -0.9000916 ],\n",
       "       [-0.2989207 , -0.08966507, -0.16447216, ..., -0.01375653,\n",
       "        -0.05917325, -0.6414147 ],\n",
       "       ...,\n",
       "       [-0.38286176, -1.021678  ,  0.35823885, ..., -0.48305774,\n",
       "         0.05845689, -1.0313418 ],\n",
       "       [-0.23785025, -0.52906173,  0.52920383, ..., -0.384545  ,\n",
       "        -0.03622682, -0.98131686],\n",
       "       [-0.3204543 , -0.47445473,  0.21335608, ...,  0.24805047,\n",
       "        -0.02024487, -1.0562242 ]], dtype=float32)"
      ]
     },
     "execution_count": 25,
     "metadata": {},
     "output_type": "execute_result"
    }
   ],
   "source": [
    "embeddings"
   ]
  },
  {
   "cell_type": "code",
   "execution_count": 43,
   "id": "f72c88cc",
   "metadata": {
    "execution": {
     "iopub.execute_input": "2024-05-01T15:56:28.211720Z",
     "iopub.status.busy": "2024-05-01T15:56:28.211346Z",
     "iopub.status.idle": "2024-05-01T15:56:30.744603Z",
     "shell.execute_reply": "2024-05-01T15:56:30.743609Z",
     "shell.execute_reply.started": "2024-05-01T15:56:28.211690Z"
    }
   },
   "outputs": [],
   "source": [
    "table['embeddings'] = embeddings.tolist()"
   ]
  },
  {
   "cell_type": "code",
   "execution_count": 51,
   "id": "10ba8e54",
   "metadata": {
    "execution": {
     "iopub.execute_input": "2024-05-01T15:59:06.658024Z",
     "iopub.status.busy": "2024-05-01T15:59:06.657259Z",
     "iopub.status.idle": "2024-05-01T15:59:06.686380Z",
     "shell.execute_reply": "2024-05-01T15:59:06.685209Z",
     "shell.execute_reply.started": "2024-05-01T15:59:06.657994Z"
    }
   },
   "outputs": [
    {
     "data": {
      "text/html": [
       "<div>\n",
       "<style scoped>\n",
       "    .dataframe tbody tr th:only-of-type {\n",
       "        vertical-align: middle;\n",
       "    }\n",
       "\n",
       "    .dataframe tbody tr th {\n",
       "        vertical-align: top;\n",
       "    }\n",
       "\n",
       "    .dataframe thead th {\n",
       "        text-align: right;\n",
       "    }\n",
       "</style>\n",
       "<table border=\"1\" class=\"dataframe\">\n",
       "  <thead>\n",
       "    <tr style=\"text-align: right;\">\n",
       "      <th></th>\n",
       "      <th>Toxicity</th>\n",
       "      <th>tweet</th>\n",
       "      <th>filtered_words</th>\n",
       "      <th>embeddings</th>\n",
       "    </tr>\n",
       "  </thead>\n",
       "  <tbody>\n",
       "    <tr>\n",
       "      <th>0</th>\n",
       "      <td>0</td>\n",
       "      <td>user when a father is dysfunctional and is so ...</td>\n",
       "      <td>['father', 'dysfunctional', 'selfish', 'drags'...</td>\n",
       "      <td>[-0.18754126131534576, -0.17380239069461823, 0...</td>\n",
       "    </tr>\n",
       "    <tr>\n",
       "      <th>1</th>\n",
       "      <td>0</td>\n",
       "      <td>user user thanks for lyft credit i cant use ca...</td>\n",
       "      <td>['thanks', 'lyft', 'credit', 'cant', 'use', 'c...</td>\n",
       "      <td>[0.037999507039785385, -0.4699377417564392, 0....</td>\n",
       "    </tr>\n",
       "    <tr>\n",
       "      <th>2</th>\n",
       "      <td>0</td>\n",
       "      <td>bihday your majesty</td>\n",
       "      <td>['bihday', 'majesty']</td>\n",
       "      <td>[-0.2989206910133362, -0.08966507017612457, -0...</td>\n",
       "    </tr>\n",
       "    <tr>\n",
       "      <th>3</th>\n",
       "      <td>0</td>\n",
       "      <td>model i love u take with u all the time in ur</td>\n",
       "      <td>['model', 'love', 'u', 'take', 'u', 'time', 'ur']</td>\n",
       "      <td>[-0.1552625298500061, -0.2156916856765747, 0.5...</td>\n",
       "    </tr>\n",
       "    <tr>\n",
       "      <th>4</th>\n",
       "      <td>0</td>\n",
       "      <td>factsguide society now motivation</td>\n",
       "      <td>['factsguide', 'society', 'motivation']</td>\n",
       "      <td>[-0.4460122585296631, -0.3412211239337921, 0.6...</td>\n",
       "    </tr>\n",
       "    <tr>\n",
       "      <th>...</th>\n",
       "      <td>...</td>\n",
       "      <td>...</td>\n",
       "      <td>...</td>\n",
       "      <td>...</td>\n",
       "    </tr>\n",
       "    <tr>\n",
       "      <th>56740</th>\n",
       "      <td>1</td>\n",
       "      <td>yous a muthafin lie LifeAsKing Pearls coreyema...</td>\n",
       "      <td>['yous', 'muthafin', 'lie', 'LifeAsKing', 'Pea...</td>\n",
       "      <td>[-0.114252969622612, -0.47859063744544983, 0.7...</td>\n",
       "    </tr>\n",
       "    <tr>\n",
       "      <th>56741</th>\n",
       "      <td>1</td>\n",
       "      <td>youve gone and broke the wrong heart baby and ...</td>\n",
       "      <td>['youve', 'gone', 'broke', 'wrong', 'heart', '...</td>\n",
       "      <td>[-0.23869013786315918, -0.9089678525924683, 0....</td>\n",
       "    </tr>\n",
       "    <tr>\n",
       "      <th>56742</th>\n",
       "      <td>1</td>\n",
       "      <td>young buck wanna eat dat nigguh like I aint fu...</td>\n",
       "      <td>['young', 'buck', 'wanna', 'eat', 'dat', 'nigg...</td>\n",
       "      <td>[-0.38286176323890686, -1.0216779708862305, 0....</td>\n",
       "    </tr>\n",
       "    <tr>\n",
       "      <th>56743</th>\n",
       "      <td>1</td>\n",
       "      <td>youu got wild bitches tellin you lies</td>\n",
       "      <td>['youu', 'got', 'wild', 'bitches', 'tellin', '...</td>\n",
       "      <td>[-0.23785024881362915, -0.5290617346763611, 0....</td>\n",
       "    </tr>\n",
       "    <tr>\n",
       "      <th>56744</th>\n",
       "      <td>0</td>\n",
       "      <td>Ruffled Ntac Eileen Dahlia Beautiful color com...</td>\n",
       "      <td>['Ruffled', 'Ntac', 'Eileen', 'Dahlia', 'Beaut...</td>\n",
       "      <td>[-0.32045429944992065, -0.47445473074913025, 0...</td>\n",
       "    </tr>\n",
       "  </tbody>\n",
       "</table>\n",
       "<p>56745 rows × 4 columns</p>\n",
       "</div>"
      ],
      "text/plain": [
       "       Toxicity                                              tweet  \\\n",
       "0             0  user when a father is dysfunctional and is so ...   \n",
       "1             0  user user thanks for lyft credit i cant use ca...   \n",
       "2             0                                bihday your majesty   \n",
       "3             0      model i love u take with u all the time in ur   \n",
       "4             0                  factsguide society now motivation   \n",
       "...         ...                                                ...   \n",
       "56740         1  yous a muthafin lie LifeAsKing Pearls coreyema...   \n",
       "56741         1  youve gone and broke the wrong heart baby and ...   \n",
       "56742         1  young buck wanna eat dat nigguh like I aint fu...   \n",
       "56743         1              youu got wild bitches tellin you lies   \n",
       "56744         0  Ruffled Ntac Eileen Dahlia Beautiful color com...   \n",
       "\n",
       "                                          filtered_words  \\\n",
       "0      ['father', 'dysfunctional', 'selfish', 'drags'...   \n",
       "1      ['thanks', 'lyft', 'credit', 'cant', 'use', 'c...   \n",
       "2                                  ['bihday', 'majesty']   \n",
       "3      ['model', 'love', 'u', 'take', 'u', 'time', 'ur']   \n",
       "4                ['factsguide', 'society', 'motivation']   \n",
       "...                                                  ...   \n",
       "56740  ['yous', 'muthafin', 'lie', 'LifeAsKing', 'Pea...   \n",
       "56741  ['youve', 'gone', 'broke', 'wrong', 'heart', '...   \n",
       "56742  ['young', 'buck', 'wanna', 'eat', 'dat', 'nigg...   \n",
       "56743  ['youu', 'got', 'wild', 'bitches', 'tellin', '...   \n",
       "56744  ['Ruffled', 'Ntac', 'Eileen', 'Dahlia', 'Beaut...   \n",
       "\n",
       "                                              embeddings  \n",
       "0      [-0.18754126131534576, -0.17380239069461823, 0...  \n",
       "1      [0.037999507039785385, -0.4699377417564392, 0....  \n",
       "2      [-0.2989206910133362, -0.08966507017612457, -0...  \n",
       "3      [-0.1552625298500061, -0.2156916856765747, 0.5...  \n",
       "4      [-0.4460122585296631, -0.3412211239337921, 0.6...  \n",
       "...                                                  ...  \n",
       "56740  [-0.114252969622612, -0.47859063744544983, 0.7...  \n",
       "56741  [-0.23869013786315918, -0.9089678525924683, 0....  \n",
       "56742  [-0.38286176323890686, -1.0216779708862305, 0....  \n",
       "56743  [-0.23785024881362915, -0.5290617346763611, 0....  \n",
       "56744  [-0.32045429944992065, -0.47445473074913025, 0...  \n",
       "\n",
       "[56745 rows x 4 columns]"
      ]
     },
     "execution_count": 51,
     "metadata": {},
     "output_type": "execute_result"
    }
   ],
   "source": [
    "table"
   ]
  },
  {
   "cell_type": "code",
   "execution_count": 50,
   "id": "58b093e5",
   "metadata": {
    "execution": {
     "iopub.execute_input": "2024-05-01T15:57:47.913530Z",
     "iopub.status.busy": "2024-05-01T15:57:47.912807Z",
     "iopub.status.idle": "2024-05-01T15:59:00.424220Z",
     "shell.execute_reply": "2024-05-01T15:59:00.423406Z",
     "shell.execute_reply.started": "2024-05-01T15:57:47.913498Z"
    }
   },
   "outputs": [],
   "source": [
    "table.to_csv('Tweets_with_embs.csv', index=False)"
   ]
  },
  {
   "cell_type": "code",
   "execution_count": null,
   "id": "e0b8442f",
   "metadata": {},
   "outputs": [],
   "source": []
  }
 ],
 "metadata": {
  "kaggle": {
   "accelerator": "nvidiaTeslaT4",
   "dataSources": [
    {
     "datasetId": 4918530,
     "sourceId": 8281827,
     "sourceType": "datasetVersion"
    }
   ],
   "dockerImageVersionId": 30699,
   "isGpuEnabled": true,
   "isInternetEnabled": true,
   "language": "python",
   "sourceType": "notebook"
  },
  "kernelspec": {
   "display_name": "Python 3 (ipykernel)",
   "language": "python",
   "name": "python3"
  },
  "language_info": {
   "codemirror_mode": {
    "name": "ipython",
    "version": 3
   },
   "file_extension": ".py",
   "mimetype": "text/x-python",
   "name": "python",
   "nbconvert_exporter": "python",
   "pygments_lexer": "ipython3",
   "version": "3.12.2"
  }
 },
 "nbformat": 4,
 "nbformat_minor": 5
}
